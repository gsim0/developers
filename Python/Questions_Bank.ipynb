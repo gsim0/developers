{
  "nbformat": 4,
  "nbformat_minor": 0,
  "metadata": {
    "colab": {
      "name": "Questions_Bank.ipynb",
      "provenance": [],
      "collapsed_sections": []
    },
    "kernelspec": {
      "name": "python3",
      "display_name": "Python 3"
    }
  },
  "cells": [
    {
      "cell_type": "markdown",
      "metadata": {
        "id": "WcZJ50OVAtW0",
        "colab_type": "text"
      },
      "source": [
        "Do you know Google Colab? Free GPUs to run ML models ;)\n",
        "https://colab.research.google.com/drive/1W-PoyOGCXgzDkac46pwdqQy_8eUaKebv?usp=sharing"
      ]
    },
    {
      "cell_type": "markdown",
      "metadata": {
        "id": "3n8ZzoSZAusb",
        "colab_type": "text"
      },
      "source": [
        "# 1. How to get indices of N maximum values in a NumPy array?"
      ]
    },
    {
      "cell_type": "code",
      "metadata": {
        "id": "DVUUT6vuAmQA",
        "colab_type": "code",
        "colab": {
          "base_uri": "https://localhost:8080/",
          "height": 33
        },
        "outputId": "b724ff56-e8ef-460c-ca93-458eca645846"
      },
      "source": [
        "import numpy as np\n",
        "\n",
        "x = np.array([1, 3, 2, 5, 0, -1, 10])\n",
        "print(f\"x: {x}\")"
      ],
      "execution_count": 1,
      "outputs": [
        {
          "output_type": "stream",
          "text": [
            "x: [ 1  3  2  5  0 -1 10]\n"
          ],
          "name": "stdout"
        }
      ]
    },
    {
      "cell_type": "code",
      "metadata": {
        "id": "UyWD9ClGApXZ",
        "colab_type": "code",
        "colab": {
          "base_uri": "https://localhost:8080/",
          "height": 33
        },
        "outputId": "a760dabe-e624-4c9f-96eb-051bf902b1ba"
      },
      "source": [
        "N = 3\n",
        "max_x = np.argsort(-x)[:N]\n",
        "print(max_x)"
      ],
      "execution_count": 2,
      "outputs": [
        {
          "output_type": "stream",
          "text": [
            "[6 3 1]\n"
          ],
          "name": "stdout"
        }
      ]
    },
    {
      "cell_type": "markdown",
      "metadata": {
        "id": "0r6CddYoAxTC",
        "colab_type": "text"
      },
      "source": [
        "# 2. Mention the use of // operator in Python?"
      ]
    },
    {
      "cell_type": "code",
      "metadata": {
        "id": "oBRCCPYOArzg",
        "colab_type": "code",
        "colab": {
          "base_uri": "https://localhost:8080/",
          "height": 33
        },
        "outputId": "2e9911e8-5c20-4ffe-a311-2ae2dbd0cb59"
      },
      "source": [
        "10 / 3"
      ],
      "execution_count": 3,
      "outputs": [
        {
          "output_type": "execute_result",
          "data": {
            "text/plain": [
              "3.3333333333333335"
            ]
          },
          "metadata": {
            "tags": []
          },
          "execution_count": 3
        }
      ]
    },
    {
      "cell_type": "code",
      "metadata": {
        "id": "osQi3KKKA1uW",
        "colab_type": "code",
        "colab": {
          "base_uri": "https://localhost:8080/",
          "height": 33
        },
        "outputId": "93c10e79-0588-41af-eba8-93b72aaad111"
      },
      "source": [
        "10 // 3"
      ],
      "execution_count": 4,
      "outputs": [
        {
          "output_type": "execute_result",
          "data": {
            "text/plain": [
              "3"
            ]
          },
          "metadata": {
            "tags": []
          },
          "execution_count": 4
        }
      ]
    },
    {
      "cell_type": "markdown",
      "metadata": {
        "id": "JxlMjNE4A5jF",
        "colab_type": "text"
      },
      "source": [
        "# 3. What is the difference between a list and a tuple?"
      ]
    },
    {
      "cell_type": "code",
      "metadata": {
        "id": "niRkgj0NA3PN",
        "colab_type": "code",
        "colab": {
          "base_uri": "https://localhost:8080/",
          "height": 50
        },
        "outputId": "ccb14497-61d2-4846-f38f-f065483cca1d"
      },
      "source": [
        "mylist = [1, 2, 3, 4]\n",
        "print(f\"mylist: {mylist}\")\n",
        "print(f\"type(mylist): {type(mylist)}\")"
      ],
      "execution_count": 5,
      "outputs": [
        {
          "output_type": "stream",
          "text": [
            "mylist: [1, 2, 3, 4]\n",
            "type(mylist): <class 'list'>\n"
          ],
          "name": "stdout"
        }
      ]
    },
    {
      "cell_type": "code",
      "metadata": {
        "id": "kHftqFlLA8wj",
        "colab_type": "code",
        "colab": {
          "base_uri": "https://localhost:8080/",
          "height": 50
        },
        "outputId": "a577c35d-63ad-4257-bb14-52e83510465c"
      },
      "source": [
        "mytuple = (1, 2, 3, 4)\n",
        "print(f\"mytuple: {mytuple}\")\n",
        "print(f\"type(mytuple): {type(mytuple)}\")"
      ],
      "execution_count": 6,
      "outputs": [
        {
          "output_type": "stream",
          "text": [
            "mytuple: (1, 2, 3, 4)\n",
            "type(mytuple): <class 'tuple'>\n"
          ],
          "name": "stdout"
        }
      ]
    },
    {
      "cell_type": "code",
      "metadata": {
        "id": "-iN_K8y6A-Y5",
        "colab_type": "code",
        "colab": {
          "base_uri": "https://localhost:8080/",
          "height": 33
        },
        "outputId": "0c808879-a7a3-48a0-c755-5089657d24df"
      },
      "source": [
        "mylist[1] = 5\n",
        "print(f\"mylist: {mylist}\")"
      ],
      "execution_count": 7,
      "outputs": [
        {
          "output_type": "stream",
          "text": [
            "mylist: [1, 5, 3, 4]\n"
          ],
          "name": "stdout"
        }
      ]
    },
    {
      "cell_type": "code",
      "metadata": {
        "id": "glcDykvgA_y6",
        "colab_type": "code",
        "colab": {
          "base_uri": "https://localhost:8080/",
          "height": 163
        },
        "outputId": "0872de1c-f036-4720-d31f-10889aa2f4db"
      },
      "source": [
        "mytuple[1] = 5"
      ],
      "execution_count": 8,
      "outputs": [
        {
          "output_type": "error",
          "ename": "TypeError",
          "evalue": "ignored",
          "traceback": [
            "\u001b[0;31m---------------------------------------------------------------------------\u001b[0m",
            "\u001b[0;31mTypeError\u001b[0m                                 Traceback (most recent call last)",
            "\u001b[0;32m<ipython-input-8-eb494d40ecde>\u001b[0m in \u001b[0;36m<module>\u001b[0;34m()\u001b[0m\n\u001b[0;32m----> 1\u001b[0;31m \u001b[0mmytuple\u001b[0m\u001b[0;34m[\u001b[0m\u001b[0;36m1\u001b[0m\u001b[0;34m]\u001b[0m \u001b[0;34m=\u001b[0m \u001b[0;36m5\u001b[0m\u001b[0;34m\u001b[0m\u001b[0;34m\u001b[0m\u001b[0m\n\u001b[0m",
            "\u001b[0;31mTypeError\u001b[0m: 'tuple' object does not support item assignment"
          ]
        }
      ]
    },
    {
      "cell_type": "markdown",
      "metadata": {
        "id": "CyRtvkTmBEo-",
        "colab_type": "text"
      },
      "source": [
        "# 4. What would be the output of the following?"
      ]
    },
    {
      "cell_type": "code",
      "metadata": {
        "id": "rtXEXtW2BA-L",
        "colab_type": "code",
        "colab": {}
      },
      "source": [
        "a = [1,2,3] \n",
        "b = a \n",
        "c = [1,2,3]"
      ],
      "execution_count": 9,
      "outputs": []
    },
    {
      "cell_type": "code",
      "metadata": {
        "id": "J0VLgCPzBJT3",
        "colab_type": "code",
        "colab": {
          "base_uri": "https://localhost:8080/",
          "height": 50
        },
        "outputId": "f477e692-c87a-4001-8d13-b8f340115c07"
      },
      "source": [
        "print(a == b) # True \n",
        "print(a == c) # True"
      ],
      "execution_count": 10,
      "outputs": [
        {
          "output_type": "stream",
          "text": [
            "True\n",
            "True\n"
          ],
          "name": "stdout"
        }
      ]
    },
    {
      "cell_type": "code",
      "metadata": {
        "id": "ruUMcaIvBNVb",
        "colab_type": "code",
        "colab": {
          "base_uri": "https://localhost:8080/",
          "height": 50
        },
        "outputId": "e8e79900-3f10-401f-a388-ee1c3124cb7e"
      },
      "source": [
        "print(a is b) # True => a and b point to the same object\n",
        "print(a is c) # False => a and c do not point to the same object"
      ],
      "execution_count": 11,
      "outputs": [
        {
          "output_type": "stream",
          "text": [
            "True\n",
            "False\n"
          ],
          "name": "stdout"
        }
      ]
    },
    {
      "cell_type": "code",
      "metadata": {
        "id": "wt6KUaFZBQ-F",
        "colab_type": "code",
        "colab": {}
      },
      "source": [
        "A0 = dict(zip(('a', 'b', 'c', 'd', 'e'),\n",
        "              (1, 2, 3, 4, 5))) \n",
        "A1 = range(10) \n",
        "A2 = sorted([i for i in A1 if i in A0]) \n",
        "A3 = sorted([A0[s] for s in A0]) \n",
        "A4 = [i for i in A1 if i in A3] \n",
        "A5 = {i:i*i for i in A1} \n",
        "A6 = [[i, i*i] for i in A1]"
      ],
      "execution_count": 12,
      "outputs": []
    },
    {
      "cell_type": "code",
      "metadata": {
        "id": "uzB0xWUkE9WS",
        "colab_type": "code",
        "colab": {
          "base_uri": "https://localhost:8080/",
          "height": 33
        },
        "outputId": "0689a50b-2915-4bca-b258-30d16bf02018"
      },
      "source": [
        "list(range(10) )"
      ],
      "execution_count": 21,
      "outputs": [
        {
          "output_type": "execute_result",
          "data": {
            "text/plain": [
              "[0, 1, 2, 3, 4, 5, 6, 7, 8, 9]"
            ]
          },
          "metadata": {
            "tags": []
          },
          "execution_count": 21
        }
      ]
    },
    {
      "cell_type": "code",
      "metadata": {
        "id": "sLlMGOFjBdUo",
        "colab_type": "code",
        "colab": {
          "base_uri": "https://localhost:8080/",
          "height": 150
        },
        "outputId": "2cd7ebc3-e2a2-49db-852b-3f1eda250232"
      },
      "source": [
        "print(f\"A0={A0}\\nA1={A1}\\nA2={A2}\\nA3={A3}\\nA4={A4}\\nA5={A5}\\nA6={A6}\\n\")"
      ],
      "execution_count": 13,
      "outputs": [
        {
          "output_type": "stream",
          "text": [
            "A0={'a': 1, 'b': 2, 'c': 3, 'd': 4, 'e': 5}\n",
            "A1=range(0, 10)\n",
            "A2=[]\n",
            "A3=[1, 2, 3, 4, 5]\n",
            "A4=[1, 2, 3, 4, 5]\n",
            "A5={0: 0, 1: 1, 2: 4, 3: 9, 4: 16, 5: 25, 6: 36, 7: 49, 8: 64, 9: 81}\n",
            "A6=[[0, 0], [1, 1], [2, 4], [3, 9], [4, 16], [5, 25], [6, 36], [7, 49], [8, 64], [9, 81]]\n",
            "\n"
          ],
          "name": "stdout"
        }
      ]
    },
    {
      "cell_type": "markdown",
      "metadata": {
        "id": "03AW-9aOCwOG",
        "colab_type": "text"
      },
      "source": [
        "# 5. Define a class named car with 2 attributes, “color” and “speed”. Then create an instance and return speed."
      ]
    },
    {
      "cell_type": "code",
      "metadata": {
        "id": "x-s5-LDrCce3",
        "colab_type": "code",
        "colab": {
          "base_uri": "https://localhost:8080/",
          "height": 33
        },
        "outputId": "b87a71f9-6ba4-4149-84a0-f4beccd6d354"
      },
      "source": [
        "class car():\n",
        "    def __init__(self, color: str, speed: float):\n",
        "        self.color = color\n",
        "        self.speed = speed\n",
        "\n",
        "ferrari = car(color='red', speed=300)\n",
        "print(ferrari.speed)"
      ],
      "execution_count": 14,
      "outputs": [
        {
          "output_type": "stream",
          "text": [
            "300\n"
          ],
          "name": "stdout"
        }
      ]
    },
    {
      "cell_type": "markdown",
      "metadata": {
        "id": "AzVUV8nIC7hw",
        "colab_type": "text"
      },
      "source": [
        "# 6. Write a regular expression that will accept an email id. Use the re module."
      ]
    },
    {
      "cell_type": "code",
      "metadata": {
        "id": "wFFq9H9eC0RV",
        "colab_type": "code",
        "colab": {}
      },
      "source": [
        "import re\n",
        "regex = '^[a-z0-9]+[\\._]?[a-z0-9]+[@]\\w+[.]\\w+$'\n",
        "\n",
        "def check(email):\n",
        "\n",
        "    # pass the regular expression\n",
        "    # and the string in search() method\n",
        "    if(re.search(regex,email)):\n",
        "        print(\"Valid Email\")\n",
        "\n",
        "    else:\n",
        "        print(\"Invalid Email\")"
      ],
      "execution_count": 15,
      "outputs": []
    },
    {
      "cell_type": "code",
      "metadata": {
        "id": "-O48FiiNC-tF",
        "colab_type": "code",
        "colab": {
          "base_uri": "https://localhost:8080/",
          "height": 33
        },
        "outputId": "520f0678-49c7-4f2a-d2cc-c476d424e825"
      },
      "source": [
        "check(email=\"guillaume.simo@hotmail.fr\")"
      ],
      "execution_count": 16,
      "outputs": [
        {
          "output_type": "stream",
          "text": [
            "Valid Email\n"
          ],
          "name": "stdout"
        }
      ]
    },
    {
      "cell_type": "code",
      "metadata": {
        "id": "jmmO9ZLbDC4I",
        "colab_type": "code",
        "colab": {
          "base_uri": "https://localhost:8080/",
          "height": 33
        },
        "outputId": "8270a52f-0371-4b16-ebc7-a138f07f9d4d"
      },
      "source": [
        "check(email=\"invalidmailahotmail.fr\")"
      ],
      "execution_count": 17,
      "outputs": [
        {
          "output_type": "stream",
          "text": [
            "Invalid Email\n"
          ],
          "name": "stdout"
        }
      ]
    },
    {
      "cell_type": "code",
      "metadata": {
        "id": "TWhGxItYDNVQ",
        "colab_type": "code",
        "colab": {
          "base_uri": "https://localhost:8080/",
          "height": 33
        },
        "outputId": "3133cfcf-6977-497e-d611-4614398a078f"
      },
      "source": [
        "check(email=\"invalidmail@hotmailfr\")"
      ],
      "execution_count": 18,
      "outputs": [
        {
          "output_type": "stream",
          "text": [
            "Invalid Email\n"
          ],
          "name": "stdout"
        }
      ]
    },
    {
      "cell_type": "code",
      "metadata": {
        "id": "ekfawKZoDPnS",
        "colab_type": "code",
        "colab": {
          "base_uri": "https://localhost:8080/",
          "height": 33
        },
        "outputId": "d9047e6b-a45c-4bc5-d7e5-1511f36dca6b"
      },
      "source": [
        "check(email=\"invalidmailhotmail.fr\")"
      ],
      "execution_count": 19,
      "outputs": [
        {
          "output_type": "stream",
          "text": [
            "Invalid Email\n"
          ],
          "name": "stdout"
        }
      ]
    },
    {
      "cell_type": "markdown",
      "metadata": {
        "id": "m14iG_2pDU76",
        "colab_type": "text"
      },
      "source": [
        "# 7. If you have to choose between a list, set, and a dictionary to store 10 million integers, what will you use? Bear in mind that you would later like to query the frequency of a number within the dataset."
      ]
    },
    {
      "cell_type": "code",
      "metadata": {
        "id": "rNba8cDDDR8-",
        "colab_type": "code",
        "colab": {
          "base_uri": "https://localhost:8080/",
          "height": 66
        },
        "outputId": "422917c0-f35a-49be-cb57-512e9d79dec5"
      },
      "source": [
        "import time\n",
        "start = time.time()\n",
        "mylist = list(range(10**6)) + [1]\n",
        "from collections import Counter\n",
        "freq_count = Counter(mylist)\n",
        "print(freq_count[1])\n",
        "print(freq_count[4])\n",
        "print('This costs {:.4f} s.'.format(time.time() - start))"
      ],
      "execution_count": 24,
      "outputs": [
        {
          "output_type": "stream",
          "text": [
            "2\n",
            "1\n",
            "This costs 0.1350 s.\n"
          ],
          "name": "stdout"
        }
      ]
    },
    {
      "cell_type": "code",
      "metadata": {
        "id": "geCtI-rgDhXv",
        "colab_type": "code",
        "colab": {}
      },
      "source": [
        ""
      ],
      "execution_count": 20,
      "outputs": []
    }
  ]
}